{
  "nbformat": 4,
  "nbformat_minor": 0,
  "metadata": {
    "colab": {
      "provenance": []
    },
    "kernelspec": {
      "name": "python3",
      "display_name": "Python 3"
    },
    "language_info": {
      "name": "python"
    }
  },
  "cells": [
    {
      "cell_type": "code",
      "execution_count": null,
      "metadata": {
        "colab": {
          "base_uri": "https://localhost:8080/"
        },
        "id": "Tti8B2WuO5G3",
        "outputId": "d2c4fc90-2fc6-429b-9660-426a0aec5275"
      },
      "outputs": [
        {
          "output_type": "stream",
          "name": "stdout",
          "text": [
            "\u001b[?25l     \u001b[90m━━━━━━━━━━━━━━━━━━━━━━━━━━━━━━━━━━━━━━━━\u001b[0m \u001b[32m0.0/232.6 kB\u001b[0m \u001b[31m?\u001b[0m eta \u001b[36m-:--:--\u001b[0m\r\u001b[2K     \u001b[91m━━━━━\u001b[0m\u001b[90m╺\u001b[0m\u001b[90m━━━━━━━━━━━━━━━━━━━━━━━━━━━━━━━━━━\u001b[0m \u001b[32m30.7/232.6 kB\u001b[0m \u001b[31m1.0 MB/s\u001b[0m eta \u001b[36m0:00:01\u001b[0m\r\u001b[2K     \u001b[91m━━━━━━━━━━━━━━━━━━━━━━━━━━━━━━━━━━━━━━\u001b[0m\u001b[91m╸\u001b[0m\u001b[90m━\u001b[0m \u001b[32m225.3/232.6 kB\u001b[0m \u001b[31m4.2 MB/s\u001b[0m eta \u001b[36m0:00:01\u001b[0m\r\u001b[2K     \u001b[90m━━━━━━━━━━━━━━━━━━━━━━━━━━━━━━━━━━━━━━━━\u001b[0m \u001b[32m232.6/232.6 kB\u001b[0m \u001b[31m3.2 MB/s\u001b[0m eta \u001b[36m0:00:00\u001b[0m\n",
            "\u001b[?25h  Preparing metadata (setup.py) ... \u001b[?25l\u001b[?25hdone\n",
            "  Building wheel for ratelimit (setup.py) ... \u001b[?25l\u001b[?25hdone\n"
          ]
        }
      ],
      "source": [
        "!pip install google-cloud-aiplatform PyPDF2 ratelimit backoff --upgrade --quiet --user"
      ]
    },
    {
      "cell_type": "code",
      "source": [
        "import IPython\n",
        "\n",
        "app = IPython.Application.instance()\n",
        "app.kernel.do_shutdown(True)"
      ],
      "metadata": {
        "colab": {
          "base_uri": "https://localhost:8080/"
        },
        "id": "FCZnJeQAO86v",
        "outputId": "c5419214-3160-49bd-ae3c-0f2e394dd8d6"
      },
      "execution_count": null,
      "outputs": [
        {
          "output_type": "execute_result",
          "data": {
            "text/plain": [
              "{'status': 'ok', 'restart': True}"
            ]
          },
          "metadata": {},
          "execution_count": 2
        }
      ]
    },
    {
      "cell_type": "code",
      "source": [
        "from google.colab import auth\n",
        "auth.authenticate_user()"
      ],
      "metadata": {
        "id": "uMbUcR34PBvN"
      },
      "execution_count": null,
      "outputs": []
    },
    {
      "cell_type": "code",
      "source": [
        "import vertexai\n",
        "PROJECT_ID = \"fluted-card-408220\"  # @param {type:\"string\"}\n",
        "vertexai.init(project=PROJECT_ID, location=\"us-central1\")"
      ],
      "metadata": {
        "id": "hdqLu6OfPMD1"
      },
      "execution_count": null,
      "outputs": []
    },
    {
      "cell_type": "code",
      "source": [
        "import re\n",
        "import urllib\n",
        "import warnings\n",
        "from pathlib import Path\n",
        "\n",
        "import backoff\n",
        "import pandas as pd\n",
        "import PyPDF2\n",
        "import ratelimit\n",
        "from google.api_core import exceptions\n",
        "from tqdm import tqdm\n",
        "from vertexai.language_models import TextGenerationModel\n",
        "\n",
        "warnings.filterwarnings(\"ignore\")"
      ],
      "metadata": {
        "id": "SMfc3KQlPaLJ"
      },
      "execution_count": null,
      "outputs": []
    },
    {
      "cell_type": "code",
      "source": [
        "generation_model = TextGenerationModel.from_pretrained(\"text-bison@001\")"
      ],
      "metadata": {
        "id": "jm0BaYNtPjue"
      },
      "execution_count": null,
      "outputs": []
    },
    {
      "cell_type": "code",
      "source": [
        "# Define a folder to store the files\n",
        "data_folder = \"data\"\n",
        "Path(data_folder).mkdir(parents=True, exist_ok=True)\n",
        "\n",
        "# Define a pdf link to download and place to store the download file\n",
        "pdf_url = \"https://services.google.com/fh/files/misc/practitioners_guide_to_mlops_whitepaper.pdf\"\n",
        "pdf_file = Path(data_folder, pdf_url.split(\"/\")[-1])\n",
        "\n",
        "# Download the file using `urllib` library\n",
        "urllib.request.urlretrieve(pdf_url, pdf_file)"
      ],
      "metadata": {
        "colab": {
          "base_uri": "https://localhost:8080/"
        },
        "id": "uiC7gz3bPlQN",
        "outputId": "f86b0b16-fda9-4dc9-85c4-1e40103a7e94"
      },
      "execution_count": null,
      "outputs": [
        {
          "output_type": "execute_result",
          "data": {
            "text/plain": [
              "(PosixPath('data/practitioners_guide_to_mlops_whitepaper.pdf'),\n",
              " <http.client.HTTPMessage at 0x7db2eaf61a80>)"
            ]
          },
          "metadata": {},
          "execution_count": 6
        }
      ]
    },
    {
      "cell_type": "code",
      "source": [
        "# Read the PDF file and create a list of pages\n",
        "reader = PyPDF2.PdfReader(pdf_file)\n",
        "pages = reader.pages\n",
        "\n",
        "# Print three pages from the pdf\n",
        "for i in range(3):\n",
        "    text = pages[i].extract_text().strip()\n",
        "\n",
        "print(f\"Page {i}: {text} \\n\\n\")\n",
        "\n",
        "#text contains only the text from page 2"
      ],
      "metadata": {
        "colab": {
          "base_uri": "https://localhost:8080/"
        },
        "id": "qdPvG1SeQBTD",
        "outputId": "fdad93e3-f635-4582-c2fc-1ee678b4921f"
      },
      "execution_count": null,
      "outputs": [
        {
          "output_type": "stream",
          "name": "stdout",
          "text": [
            "Page 2: Executive summary\n",
            "Across industries, DevOps and DataOps have been widely adopted as methodologies to improve quality and re -\n",
            "duce the time to market of software engineering and data engineering initiatives. With the rapid growth in machine \n",
            "learning (ML) systems, similar approaches need to be developed in the context of ML engineering, which handle the \n",
            "unique complexities of the practical applications of ML. This is the domain of MLOps. MLOps is a set of standard -\n",
            "ized processes and technology capabilities for building, deploying, and operationalizing ML systems rapidly and \n",
            "reliably.]\n",
            "We previously published Google Cloud’s AI Adoption Framework  to provide guidance for technology leaders who \n",
            "want to build an effective artificial intelligence (AI) capability in order to transform their business. That framework \n",
            "covers AI challenges around people, data, technology, and process, structured in six different themes: learn, lead, \n",
            "access, secure, scale, and automate . \n",
            "The current document takes a deeper dive into the themes of scale  and automate  to illustrate the requirements for \n",
            "building and operationalizing ML systems. Scale  concerns the extent to which you use cloud managed ML services \n",
            "that scale with large amounts of data and large numbers of data processing and ML jobs, with reduced operational \n",
            "overhead. Automate  concerns the extent to which you are able to deploy, execute, and operate technology for data \n",
            "processing and ML pipelines in production efficiently, frequently, and reliably.\n",
            "We outline an MLOps framework that defines core processes and technical capabilities. Organizations can use this \n",
            "framework to help establish mature MLOps practices for building and operationalizing ML systems. Adopting the \n",
            "framework can help organizations improve collaboration between teams, improve the reliability and scalability of ML \n",
            "systems, and shorten development cycle times. These benefits in turn drive innovation and help gain overall busi -\n",
            "ness value from investments in ML.\n",
            "This document is intended for technology leaders and enterprise architects who want to understand MLOps. It’s also \n",
            "for teams who want details about what MLOps looks like in practice. The document assumes that readers are famil -\n",
            "iar with basic machine learning concepts and with development and deployment practices such as CI/CD.\n",
            "The document is in two parts. The first part, an overview of the MLOps lifecycle, is for all readers. It introduces \n",
            "MLOps processes and capabilities and why they’re important for successful adoption of ML-based systems.\n",
            "The second part is a deep dive on the MLOps processes and capabilities. This part is for readers who want to un -\n",
            "derstand the concrete details of tasks like running a continuous training pipeline, deploying a model, and monitoring \n",
            "predictive performance of an ML model.3 \n",
            "\n",
            "\n"
          ]
        }
      ]
    },
    {
      "cell_type": "code",
      "source": [
        "# Entry string that contains the extacted text from page 2\n",
        "print(f\"There are {len(text)} characters in the second page of the pdf\")"
      ],
      "metadata": {
        "colab": {
          "base_uri": "https://localhost:8080/"
        },
        "id": "p8x8HMz7QDxB",
        "outputId": "6eab1241-2cd0-42c1-8a5e-9571001c5eb1"
      },
      "execution_count": null,
      "outputs": [
        {
          "output_type": "stream",
          "name": "stdout",
          "text": [
            "There are 2840 characters in the second page of the pdf\n"
          ]
        }
      ]
    },
    {
      "cell_type": "code",
      "source": [
        "prompt_template = \"\"\"\n",
        "    Write a concise summary of the following text.\n",
        "    Return your response in bullet points which covers the key points of the text.\n",
        "\n",
        "    ```{text}```\n",
        "\n",
        "    BULLET POINT SUMMARY:\n",
        "\"\"\""
      ],
      "metadata": {
        "id": "dn0gMxOpQHdQ"
      },
      "execution_count": null,
      "outputs": []
    },
    {
      "cell_type": "code",
      "source": [
        "# Define the prompt using the prompt template\n",
        "prompt = prompt_template.format(text=text)\n",
        "\n",
        "# Use the model to summarize the text using the prompt\n",
        "summary = generation_model.predict(prompt=prompt, max_output_tokens=1024).text\n",
        "\n",
        "print(summary)"
      ],
      "metadata": {
        "colab": {
          "base_uri": "https://localhost:8080/"
        },
        "id": "t8H0ib9NQJo5",
        "outputId": "80abf0f0-b3bd-4f5d-d330-aa5ec313ea50"
      },
      "execution_count": null,
      "outputs": [
        {
          "output_type": "stream",
          "name": "stdout",
          "text": [
            "- MLOps is a set of standardized processes and technology capabilities for building, deploying, and operationalizing ML systems rapidly and reliably.\n",
            "- MLOps framework defines core processes and technical capabilities.\n",
            "- Organizations can use this framework to help establish mature MLOps practices for building and operationalizing ML systems.\n",
            "- Adopting the framework can help organizations improve collaboration between teams, improve the reliability and scalability of ML systems, and shorten development cycle times.\n",
            "- This document is intended for technology leaders and enterprise architects who want to understand MLOps. It’s also for teams who want details about what MLOps looks like in practice. The document assumes that readers are familiar with basic machine learning concepts and with development and deployment practices such as CI/CD.\n"
          ]
        }
      ]
    },
    {
      "cell_type": "code",
      "source": [
        "# Define the prompt using the prompt template\n",
        "prompt = prompt_template.format(text=text[:30000])\n",
        "\n",
        "# Use the model to summarize the text using the prompt\n",
        "summary = generation_model.predict(prompt=prompt, max_output_tokens=1024)\n",
        "\n",
        "summary"
      ],
      "metadata": {
        "colab": {
          "base_uri": "https://localhost:8080/"
        },
        "id": "lHqK6jCLQe0I",
        "outputId": "30857dd2-c1d5-47f2-b05c-b496b0f8ce7d"
      },
      "execution_count": null,
      "outputs": [
        {
          "output_type": "execute_result",
          "data": {
            "text/plain": [
              "- MLOps is a set of standardized processes and technology capabilities for building, deploying, and operationalizing ML systems rapidly and reliably.\n",
              "- MLOps framework defines core processes and technical capabilities.\n",
              "- Organizations can use this framework to help establish mature MLOps practices for building and operationalizing ML systems.\n",
              "- Adopting the framework can help organizations improve collaboration between teams, improve the reliability and scalability of ML systems, and shorten development cycle times.\n",
              "- This document is intended for technology leaders and enterprise architects who want to understand MLOps. It’s also for teams who want details about what MLOps looks like in practice. The document assumes that readers are familiar with basic machine learning concepts and with development and deployment practices such as CI/CD."
            ]
          },
          "metadata": {},
          "execution_count": 12
        }
      ]
    }
  ]
}